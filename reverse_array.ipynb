{
 "cells": [
  {
   "cell_type": "markdown",
   "metadata": {},
   "source": [
    "1. Two Sum\n",
    "Given an array of integers nums and an integer target, return indices of the two numbers such that they add up to target.\n",
    "You may assume that each input would have exactly one solution, and you may not use the same element twice.\n",
    "You can return the answer in any order.\n",
    "\n",
    "Example 1:\n",
    "\n",
    "Input: nums = [2,7,11,15], target = 9\n",
    "Output: [0,1]\n",
    "Explanation: Because nums[0] + nums[1] == 9, we return [0, 1].\n",
    "Example 2:\n",
    "\n",
    "Input: nums = [3,2,4], target = 6\n",
    "Output: [1,2]\n",
    "Example 3:\n",
    "\n",
    "Input: nums = [3,3], target = 6\n",
    "Output: [0,1]\n",
    "\n",
    "Constraints:\n",
    "\n",
    "2 <= nums.length <= 104\n",
    "-109 <= nums[i] <= 109\n",
    "-109 <= target <= 109\n",
    "Only one valid answer exists."
   ]
  },
  {
   "cell_type": "code",
   "execution_count": 40,
   "metadata": {},
   "outputs": [
    {
     "name": "stdout",
     "output_type": "stream",
     "text": [
      "checked 0 1\n"
     ]
    },
    {
     "data": {
      "text/plain": [
       "[1, 2]"
      ]
     },
     "execution_count": 40,
     "metadata": {},
     "output_type": "execute_result"
    }
   ],
   "source": [
    "class Solution:\n",
    "    def twoSum(self, nums: List[int], target: int) -> List[int]:\n",
    "        x = 0\n",
    "        y = 1\n",
    "        j = len(nums)\n",
    "        if nums[x]+nums[y] != target:\n",
    "            while x < j -1:\n",
    "                while y < j -1:\n",
    "                    y += 1\n",
    "                    if nums[x]+nums[y] == target:\n",
    "                        return [x,y]\n",
    "                    elif y == j-1:\n",
    "                        x += 1\n",
    "                        y=x\n",
    "                if nums[x]+nums[y] == target:\n",
    "                    return [x,y]\n",
    "        else:\n",
    "            return [x,y]\n",
    "\n",
    "Solution().twoSum([2,7,11,15], 9)\n",
    "Solution().twoSum([3,2,4,6,8], 6)\n",
    "# Solution().twoSum([3,3], 6)"
   ]
  },
  {
   "cell_type": "markdown",
   "metadata": {},
   "source": [
    "344. Reverse String\n",
    "Write a function that reverses a string. The input string is given as an array of characters s.\n",
    "You must do this by modifying the input array in-place with O(1) extra memory.\n",
    "\n",
    "Example 1:\n",
    "\n",
    "Input: s = [\"h\",\"e\",\"l\",\"l\",\"o\"]\n",
    "Output: [\"o\",\"l\",\"l\",\"e\",\"h\"]\n",
    "Example 2:\n",
    "\n",
    "Input: s = [\"H\",\"a\",\"n\",\"n\",\"a\",\"h\"]\n",
    "Output: [\"h\",\"a\",\"n\",\"n\",\"a\",\"H\"]\n",
    " \n",
    "Constraints:\n",
    "\n",
    "1 <= s.length <= 105\n",
    "s[i] is a printable ascii character."
   ]
  },
  {
   "cell_type": "code",
   "execution_count": 2,
   "metadata": {},
   "outputs": [],
   "source": [
    "from typing import List\n",
    "\n",
    "\n",
    "class Solution:\n",
    "    def reverseString(self, s: List[str]) -> None:\n",
    "        \"\"\"\n",
    "        Do not return anything, modify s in-place instead.\n",
    "        \"\"\"\n",
    "        left, right = 0, len(s) - 1\n",
    "        while left < right:\n",
    "            s[left], s[right] = s[right], s[left]\n",
    "            left += 1\n",
    "            right -= 1\n",
    "\n",
    "Solution().reverseString([\"h\",\"e\",\"l\",\"l\",\"o\"])"
   ]
  },
  {
   "cell_type": "markdown",
   "metadata": {},
   "source": [
    "2. Add Two Numbers\n",
    "You are given two non-empty linked lists representing two non-negative integers. The digits are stored in reverse order, and each of their nodes contains a single digit. Add the two numbers and return the sum as a linked list.\n",
    "\n",
    "You may assume the two numbers do not contain any leading zero, except the number 0 itself."
   ]
  },
  {
   "cell_type": "code",
   "execution_count": 15,
   "metadata": {},
   "outputs": [
    {
     "name": "stdout",
     "output_type": "stream",
     "text": [
      "243\n"
     ]
    }
   ],
   "source": [
    "# Definition for singly-linked list.\n",
    "# class ListNode:\n",
    "#     def __init__(self, val=0, next=None):\n",
    "#         self.val = val\n",
    "#         self.next = next\n",
    "from typing import Optional, List\n",
    "\n",
    "\n",
    "class ListNode:\n",
    "    def __init__(self, val=0, next=None):\n",
    "        self.val = val\n",
    "        self.next = next\n",
    "\n",
    "\n",
    "class Solution:\n",
    "    def addTwoNumbers(self, l1: Optional[ListNode], l2: Optional[ListNode]) -> Optional[ListNode]:\n",
    "        a = ''.join(str(l1) for l1 in l1)\n",
    "        print(a)\n",
    "\n",
    "\n",
    "Solution().addTwoNumbers([2,4,3], [5,6,4])"
   ]
  },
  {
   "cell_type": "code",
   "execution_count": 19,
   "metadata": {},
   "outputs": [
    {
     "name": "stdout",
     "output_type": "stream",
     "text": [
      "807\n"
     ]
    }
   ],
   "source": [
    "from typing import Optional\n",
    "# Definition for singly-linked list.\n",
    "class ListNode:\n",
    "    def __init__(self, val=0, next=None):\n",
    "        self.val = val\n",
    "        self.next = next\n",
    "\n",
    "class Solution:\n",
    "    def addTwoNumbers(self, l1: Optional[ListNode], l2: Optional[ListNode]) -> Optional[ListNode]:\n",
    "            while l1:\n",
    "                s = ''.join(map(str, l1))\n",
    "                a = ''.join(map(str, l2))\n",
    "                si = int(s)\n",
    "                ai = int(a)\n",
    "                ans = si + ai\n",
    "                print(ans)\n",
    "                break\n",
    "\n",
    "Solution().addTwoNumbers([2,4,3], [5,6,4])"
   ]
  },
  {
   "cell_type": "code",
   "execution_count": 33,
   "metadata": {},
   "outputs": [
    {
     "name": "stdout",
     "output_type": "stream",
     "text": [
      "P1 First Row\n",
      "A2 Row\n",
      "Y3 Last Row\n",
      "P2 Row\n",
      "A1 First Row\n",
      "L2 Row\n",
      "I3 Last Row\n",
      "S2 Row\n",
      "H1 First Row\n",
      "I2 Row\n",
      "R3 Last Row\n",
      "I2 Row\n",
      "N1 First Row\n",
      "G2 Row\n",
      "Row 1: ['P', 'A', 'H', 'N']\n",
      "Row 2: ['A', 'P', 'L', 'S', 'I', 'I', 'G']\n",
      "Row 3: ['Y', 'I', 'R']\n"
     ]
    },
    {
     "data": {
      "text/plain": [
       "'PAHNAPLSIIGYIR'"
      ]
     },
     "execution_count": 33,
     "metadata": {},
     "output_type": "execute_result"
    }
   ],
   "source": [
    "class Solution:\n",
    "    def convert(self, s: str, numRows: int) -> str:\n",
    "        rows = [[] for _ in range(numRows)]\n",
    "\n",
    "        g = 1\n",
    "        w = 0\n",
    "        direction = \"down\"\n",
    "        while w < len(s):\n",
    "            for i in s:\n",
    "                if g == 1:\n",
    "                    rows[g-1].append(i)\n",
    "                    direction = \"down\"\n",
    "                    g += 1\n",
    "                    w += 1\n",
    "                elif g != numRows and direction == \"down\":\n",
    "                    rows[g-1].append(i)\n",
    "                    g += 1\n",
    "                    w += 1\n",
    "                elif g == numRows and direction == \"up\":\n",
    "                    rows[g-1].append(i)\n",
    "                    g -= 1\n",
    "                    w += 1\n",
    "                elif g == numRows:\n",
    "                    rows[g-1].append(i)\n",
    "                    direction = \"up\"\n",
    "                    g -= 1\n",
    "                    w += 1\n",
    "                elif g > 1 and direction == \"up\":\n",
    "                    rows[g-1].append(i)\n",
    "                    g -= 1\n",
    "                    w += 1\n",
    "                    \n",
    "        \n",
    "        return \"\".join([\"\".join(row) for row in rows])\n",
    "\n",
    "Solution().convert(\"PAYPALISHIRING\", 3)"
   ]
  },
  {
   "cell_type": "code",
   "execution_count": null,
   "metadata": {},
   "outputs": [],
   "source": [
    "const handler = () => {\n",
    "    console.log(\"---- handler triggered\");\n",
    "};\n",
    "\n",
    "sample({\n",
    "    clock: someEvent,\n",
    "    source: someEffectFx.doneData,\n",
    "}).watch(handler);\n",
    "\n"
   ]
  },
  {
   "cell_type": "markdown",
   "metadata": {},
   "source": [
    "13. Roman to Integer\n",
    "Easy\n",
    "Topics\n",
    "Companies\n",
    "Hint\n",
    "Roman numerals are represented by seven different symbols: I, V, X, L, C, D and M.\n",
    "\n",
    "Symbol       Value\n",
    "I             1\n",
    "V             5\n",
    "X             10\n",
    "L             50\n",
    "C             100\n",
    "D             500\n",
    "M             1000\n",
    "For example, 2 is written as II in Roman numeral, just two ones added together. 12 is written as XII, which is simply X + II. The number 27 is written as XXVII, which is XX + V + II.\n",
    "\n",
    "Roman numerals are usually written largest to smallest from left to right. However, the numeral for four is not IIII. Instead, the number four is written as IV. Because the one is before the five we subtract it making four. The same principle applies to the number nine, which is written as IX. There are six instances where subtraction is used:\n",
    "\n",
    "I can be placed before V (5) and X (10) to make 4 and 9. \n",
    "X can be placed before L (50) and C (100) to make 40 and 90. \n",
    "C can be placed before D (500) and M (1000) to make 400 and 900.\n",
    "Given a roman numeral, convert it to an integer."
   ]
  },
  {
   "cell_type": "code",
   "execution_count": 164,
   "metadata": {},
   "outputs": [
    {
     "name": "stdout",
     "output_type": "stream",
     "text": [
      "solution 500\n",
      "solution 4\n",
      "solution 3\n",
      "solution 58\n",
      "solution 1994\n"
     ]
    },
    {
     "data": {
      "text/plain": [
       "1994"
      ]
     },
     "execution_count": 164,
     "metadata": {},
     "output_type": "execute_result"
    }
   ],
   "source": [
    "dict={\n",
    "    \"I\":1,\n",
    "    \"V\":5,\n",
    "    \"X\":10,\n",
    "    \"L\":50,\n",
    "    \"C\":100,\n",
    "    \"D\":500,\n",
    "    \"M\":1000,\n",
    "}\n",
    "\n",
    "class Solution:\n",
    "    def romanToInt(self, s: str) -> int:\n",
    "        roman = list(s)\n",
    "        solution = 0\n",
    "        calc = []\n",
    "        for x in roman:\n",
    "            calc.append(dict[x])\n",
    "        for i, number in enumerate(calc):\n",
    "            if i <= len(calc):\n",
    "                if i == 0 and len(calc) > 1 and calc[i+1] > calc[i]:\n",
    "                    continue\n",
    "                elif i > 0 and calc[i-1] != calc[i] and calc[i-1] < calc[i]:\n",
    "                    solution = solution + calc[i] -calc[i-1]\n",
    "                elif i > 0 and i+1 <= len(calc)-1 and calc[i+1] != calc[i] and calc[i+1] > calc[i]:\n",
    "                    continue\n",
    "                else:\n",
    "                    solution = solution + calc[i]\n",
    "            else:\n",
    "                solution = solution + calc[i]\n",
    "        calc.clear()\n",
    "        print(f\"solution {solution}\")\n",
    "        return solution\n",
    "    \n",
    "\n",
    "Solution().romanToInt(\"D\")\n",
    "Solution().romanToInt(\"IV\")\n",
    "Solution().romanToInt(\"III\")\n",
    "Solution().romanToInt(\"LVIII\")\n",
    "Solution().romanToInt(\"MCMXCIV\")"
   ]
  },
  {
   "cell_type": "markdown",
   "metadata": {},
   "source": [
    "<h1>1652. Defuse the Bomb</h1>\n",
    "\n",
    "<p>You have a bomb to defuse, and your time is running out! Your informer will provide you with a circular array code of length of n and a key k.<br>\n",
    "To decrypt the code, you must replace every number. All the numbers are replaced simultaneously.</p>\n",
    "\n",
    "<ul>\n",
    "<li>If k > 0, replace the ith number with the sum of the next k numbers.</li>\n",
    "<li>If k < 0, replace the ith number with the sum of the previous k numbers.</li>\n",
    "<li>If k == 0, replace the ith number with 0.</li>\n",
    "</ul>\n",
    "\n",
    "As code is circular, the next element of code[n-1] is code[0], and the previous element of code[0] is code[n-1].\n",
    "\n",
    "Given the circular array code and an integer key k, return the decrypted code to defuse the bomb!\n",
    "\n",
    " \n",
    "\n",
    "<h3>Example 1:</h3>\n",
    "\n",
    "Input: code = [5,7,1,4], k = 3<br>\n",
    "Output: [12,10,16,13]<br>\n",
    "Explanation: Each number is replaced by the sum of the next 3 numbers. The decrypted code is [7+1+4, 1+4+5, 4+5+7, 5+7+1]. Notice that the numbers wrap around.<br>\n",
    "\n",
    "<h3>Example 2:</h3>\n",
    "\n",
    "Input: code = [1,2,3,4], k = 0<br>\n",
    "Output: [0,0,0,0]<br>\n",
    "Explanation: When k is zero, the numbers are replaced by 0. <br>\n",
    "\n",
    "<h3>Example 3:</h3>\n",
    "\n",
    "Input: code = [2,4,9,3], k = -2<br>\n",
    "Output: [12,5,6,13]<br>\n",
    "Explanation: The decrypted code is [3+9, 2+3, 4+2, 9+4]. Notice that the numbers wrap around again. If k is negative, the sum is of the previous numbers.<br>\n",
    " \n",
    "\n",
    "Constraints:\n",
    "<ul>\n",
    "<li>n == code.length</li>\n",
    "<li>1 <= n <= 100</li>\n",
    "<li>1 <= code[i] <= 100</li>\n",
    "<li>-(n - 1) <= k <= n - 1</li>\n",
    "</ul>"
   ]
  },
  {
   "cell_type": "code",
   "execution_count": 19,
   "metadata": {},
   "outputs": [
    {
     "name": "stdout",
     "output_type": "stream",
     "text": [
      "[12, 10, 16, 13]\n",
      "i = 0\n",
      "chosen [9]\n",
      "k -1\n",
      "chosen [9, 3]\n",
      "k 0\n",
      "i = 1\n",
      "chosen [3]\n",
      "k -1\n",
      "chosen [3, 2]\n",
      "k 0\n",
      "i = 2\n",
      "chosen [2]\n",
      "k -1\n",
      "chosen [2, 4]\n",
      "k 0\n",
      "i = 3\n",
      "chosen [4]\n",
      "k -1\n",
      "chosen [4, 9]\n",
      "k 0\n",
      "[12, 5, 6, 13]\n"
     ]
    }
   ],
   "source": [
    "from typing import List\n",
    "\n",
    "class Solution:\n",
    "    def decrypt(self, code: List[int], k: int) -> List[int]:\n",
    "        doubled = code * 2\n",
    "        result = []\n",
    "        chosen = []\n",
    "        p=k\n",
    "        n=k-1\n",
    "        if k == 0:\n",
    "            for i in code:\n",
    "                result.append(0)\n",
    "            print(f\"{result}\")\n",
    "        if k > 0:\n",
    "            for i, number in enumerate(code):\n",
    "                while k > 0:\n",
    "                    chosen.append(doubled[i+k])\n",
    "                    k = k - 1\n",
    "                sumed = sum(chosen)\n",
    "                result.append(sumed)\n",
    "                chosen.clear()\n",
    "                k=p\n",
    "            print(f\"{result}\")\n",
    "        if k < 0:\n",
    "            for i, number in enumerate(code):\n",
    "                print(f\"i = {i}\")\n",
    "                while k < 0:\n",
    "                    chosen.append(doubled[i+k])\n",
    "                    print(f\"chosen {chosen}\")\n",
    "                    k = k + 1\n",
    "                    print(f\"k {k}\")\n",
    "                sumed = sum(chosen)\n",
    "                result.append(sumed)\n",
    "                chosen.clear()\n",
    "                k=p\n",
    "            print(f\"{result}\")\n",
    "\n",
    "Solution().decrypt([5,7,1,4], 3)\n",
    "Solution().decrypt([2,4,9,3], -2)"
   ]
  },
  {
   "cell_type": "markdown",
   "metadata": {},
   "source": [
    "<h1>3. Longest Substring Without Repeating Characters</h1>\n",
    "\n",
    "Given a string s, find the length of the longest \n",
    "substring\n",
    " without repeating characters.\n",
    "\n",
    " \n",
    "\n",
    "Example 1:\n",
    "\n",
    "Input: s = \"abcabcbb\"\n",
    "Output: 3\n",
    "Explanation: The answer is \"abc\", with the length of 3.\n",
    "Example 2:\n",
    "\n",
    "Input: s = \"bbbbb\"\n",
    "Output: 1\n",
    "Explanation: The answer is \"b\", with the length of 1.\n",
    "Example 3:\n",
    "\n",
    "Input: s = \"pwwkew\"\n",
    "Output: 3\n",
    "Explanation: The answer is \"wke\", with the length of 3.\n",
    "Notice that the answer must be a substring, \"pwke\" is a subsequence and not a substring.\n",
    " \n",
    "\n",
    "Constraints:\n",
    "\n",
    "0 <= s.length <= 5 * 104\n",
    "s consists of English letters, digits, symbols and spaces."
   ]
  },
  {
   "cell_type": "code",
   "execution_count": null,
   "metadata": {},
   "outputs": [],
   "source": []
  },
  {
   "cell_type": "markdown",
   "metadata": {},
   "source": [
    "<h1>7. Reverse Integer</h1>\n",
    "\n",
    "Given a signed 32-bit integer x, return x with its digits reversed. If reversing x causes the value to go outside the signed 32-bit integer range [-2<sup>31</sup>, 2<sup>31</sup> - 1], then return 0.\n",
    "\n",
    "Assume the environment does not allow you to store 64-bit integers (signed or unsigned).\n",
    "\n",
    "Example 1:\n",
    "\n",
    "Input: x = 123\n",
    "Output: 321\n",
    "\n",
    "Example 2:\n",
    "\n",
    "Input: x = -123\n",
    "Output: -321\n",
    "\n",
    "Example 3:\n",
    "\n",
    "Input: x = 120\n",
    "Output: 21\n",
    " \n",
    "\n",
    "Constraints:\n",
    "\n",
    "-2<sup>31</sup> <= x <= 2<sup>31</sup> - 1"
   ]
  },
  {
   "cell_type": "code",
   "execution_count": null,
   "metadata": {},
   "outputs": [
    {
     "data": {
      "text/plain": [
       "0"
      ]
     },
     "execution_count": 21,
     "metadata": {},
     "output_type": "execute_result"
    }
   ],
   "source": [
    "class Solution:\n",
    "    def reverse(self, x: int) -> int:\n",
    "        if x == 0:\n",
    "            return 0\n",
    "        elif  x >= -2**31 and x <= 2**31-1:\n",
    "            negative = x < 0\n",
    "            list_x = [int(i) for i in str(abs(x))]\n",
    "            list_x.reverse()\n",
    "            if list_x[-1] == 0:\n",
    "                list_x.pop()\n",
    "            result = int(\"\".join(map(str, list_x)))\n",
    "            if negative:\n",
    "                result = -result\n",
    "            if result >= -2**31 and result <= 2**31-1:\n",
    "                return result\n",
    "            else:\n",
    "                return 0\n",
    "        else:\n",
    "            return 0\n",
    "\n",
    "Solution().reverse(1534236469)"
   ]
  },
  {
   "cell_type": "markdown",
   "metadata": {},
   "source": [
    "<div class=\"flex w-full flex-1 flex-col gap-4 overflow-y-auto px-4 py-5\"><div class=\"flex items-start justify-between gap-4\"><div class=\"flex items-start gap-2\"><div class=\"text-title-large font-semibold text-text-primary dark:text-text-primary\"><h1 class=\"no-underline hover:text-blue-s dark:hover:text-dark-blue-s truncate cursor-text whitespace-normal hover:!text-[inherit]\" href=\"/problems/find-champion-ii/\">2924. Find Champion II</h1><div class=\"text-body ml-2 inline-flex items-center gap-2 py-1\"><div class=\"inline-flex items-center space-x-2\"></div></div></div></div></div><div class=\"flex gap-1\"><div class=\"relative inline-flex items-center justify-center text-caption px-2 py-1 gap-1 rounded-full bg-fill-secondary text-difficulty-medium dark:text-difficulty-medium\">Medium</div><div class=\"relative inline-flex items-center justify-center text-caption px-2 py-1 gap-1 rounded-full bg-fill-secondary cursor-pointer transition-colors hover:bg-fill-primary hover:text-text-primary text-sd-secondary-foreground hover:opacity-80\"><div class=\"relative text-[14px] leading-[normal] p-[1px] before:block before:h-3.5 before:w-3.5 h-3.5 w-3.5 fill-none stroke-current\"></div>Topics</div><div class=\"relative inline-flex items-center justify-center text-caption px-2 py-1 gap-1 rounded-full bg-fill-secondary cursor-pointer transition-colors hover:bg-fill-primary hover:text-text-primary text-sd-secondary-foreground hover:opacity-80\">Companies</div><div class=\"relative inline-flex items-center justify-center text-caption px-2 py-1 gap-1 rounded-full bg-fill-secondary cursor-pointer transition-colors hover:bg-fill-primary hover:text-text-primary text-sd-secondary-foreground hover:opacity-80\"><div class=\"relative text-[14px] leading-[normal] p-[1px] before:block before:h-3.5 before:w-3.5 h-3.5 w-3.5 fill-none stroke-current\"></div>Hint</div></div><div><div class=\"elfjS\" data-track-load=\"description_content\"><p>There are <code>n</code> teams numbered from <code>0</code> to <code>n - 1</code> in a tournament; each team is also a node in a <strong>DAG</strong>.</p>\n",
    "\n",
    "<p>You are given the integer <code>n</code> and a <strong>0-indexed</strong> 2D integer array <code>edges</code> of length <code><font face=\"monospace\">m</font></code> representing the <strong>DAG</strong>, where <code>edges[i] = [u<sub>i</sub>, v<sub>i</sub>]</code> indicates that there is a directed edge from team <code>u<sub>i</sub></code> to team <code>v<sub>i</sub></code> in the graph.</p>\n",
    "\n",
    "<p>A directed edge from <code>a</code> to <code>b</code> in the graph means that team <code>a</code> is <strong>stronger</strong> than team <code>b</code> and team <code>b</code> is <strong>weaker</strong> than team <code>a</code>.</p>\n",
    "\n",
    "<p>Team <code>a</code> will be the <strong>champion</strong> of the tournament if there is no team <code>b</code> that is <strong>stronger</strong> than team <code>a</code>.</p>\n",
    "\n",
    "<p>Return <em>the team that will be the <strong>champion</strong> of the tournament if there is a <strong>unique</strong> champion, otherwise, return </em><code>-1</code><em>.</em></p>\n",
    "\n",
    "<p><strong>Notes</strong></p>\n",
    "\n",
    "<ul>\n",
    "\t<li>A <strong>cycle</strong> is a series of nodes <code>a<sub>1</sub>, a<sub>2</sub>, ..., a<sub>n</sub>, a<sub>n+1</sub></code> such that node <code>a<sub>1</sub></code> is the same node as node <code>a<sub>n+1</sub></code>, the nodes <code>a<sub>1</sub>, a<sub>2</sub>, ..., a<sub>n</sub></code> are distinct, and there is a directed edge from the node <code>a<sub>i</sub></code> to node <code>a<sub>i+1</sub></code> for every <code>i</code> in the range <code>[1, n]</code>.</li>\n",
    "\t<li>A <strong>DAG</strong> is a directed graph that does not have any <strong>cycle</strong>.</li>\n",
    "</ul>\n",
    "\n",
    "<p>&nbsp;</p>\n",
    "<p><strong class=\"example\">Example 1:</strong></p>\n",
    "\n",
    "<p><img height=\"300\" src=\"https://assets.leetcode.com/uploads/2023/10/19/graph-3.png\" width=\"300\"></p>\n",
    "\n",
    "<pre><strong>Input:</strong> n = 3, edges = [[0,1],[1,2]]\n",
    "<strong>Output:</strong> 0\n",
    "<strong>Explanation: </strong>Team 1 is weaker than team 0. Team 2 is weaker than team 1. So the champion is team 0.\n",
    "</pre>\n",
    "\n",
    "<p><strong class=\"example\">Example 2:</strong></p>\n",
    "\n",
    "<p><img height=\"300\" src=\"https://assets.leetcode.com/uploads/2023/10/19/graph-4.png\" width=\"300\"></p>\n",
    "\n",
    "<pre><strong>Input:</strong> n = 4, edges = [[0,2],[1,3],[1,2]]\n",
    "<strong>Output:</strong> -1\n",
    "<strong>Explanation:</strong> Team 2 is weaker than team 0 and team 1. Team 3 is weaker than team 1. But team 1 and team 0 are not weaker than any other teams. So the answer is -1.\n",
    "</pre>\n",
    "\n",
    "<p>&nbsp;</p>\n",
    "<p><strong>Constraints:</strong></p>\n",
    "\n",
    "<ul>\n",
    "\t<li><code>1 &lt;= n &lt;= 100</code></li>\n",
    "\t<li><code>m == edges.length</code></li>\n",
    "\t<li><code>0 &lt;= m &lt;= n * (n - 1) / 2</code></li>\n",
    "\t<li><code>edges[i].length == 2</code></li>\n",
    "\t<li><code>0 &lt;= edge[i][j] &lt;= n - 1</code></li>\n",
    "\t<li><code>edges[i][0] != edges[i][1]</code></li>\n",
    "\t<li>The input is generated such that if team <code>a</code> is stronger than team <code>b</code>, team <code>b</code> is not stronger than team <code>a</code>.</li>\n",
    "\t<li>The input is generated such that if team <code>a</code> is stronger than team <code>b</code> and team <code>b</code> is stronger than team <code>c</code>, then team <code>a</code> is stronger than team <code>c</code>.</li>\n",
    "</ul>"
   ]
  },
  {
   "cell_type": "code",
   "execution_count": null,
   "metadata": {},
   "outputs": [],
   "source": []
  },
  {
   "cell_type": "markdown",
   "metadata": {},
   "source": [
    "<div class=\"flex w-full flex-1 flex-col gap-4 overflow-y-auto px-4 py-5\"><div class=\"flex items-start justify-between gap-4\"><div class=\"flex items-start gap-2\"><div class=\"text-title-large font-semibold text-text-primary dark:text-text-primary\"><a class=\"no-underline hover:text-blue-s dark:hover:text-dark-blue-s truncate cursor-text whitespace-normal hover:!text-[inherit]\" href=\"/problems/longest-common-prefix/\">14. Longest Common Prefix</a><div class=\"text-body ml-2 inline-flex items-center gap-2 py-1\"><div class=\"inline-flex items-center space-x-2\"></div></div></div></div></div><div class=\"flex gap-1\"><div class=\"relative inline-flex items-center justify-center text-caption px-2 py-1 gap-1 rounded-full bg-fill-secondary text-difficulty-easy dark:text-difficulty-easy\">Easy</div><div class=\"relative inline-flex items-center justify-center text-caption px-2 py-1 gap-1 rounded-full bg-fill-secondary cursor-pointer transition-colors hover:bg-fill-primary hover:text-text-primary text-sd-secondary-foreground hover:opacity-80\"><div class=\"relative text-[14px] leading-[normal] p-[1px] before:block before:h-3.5 before:w-3.5 h-3.5 w-3.5 fill-none stroke-current\">Companies</div></div><div><div class=\"elfjS\" data-track-load=\"description_content\"><p>Write a function to find the longest common prefix string amongst an array of strings.</p>\n",
    "\n",
    "<p>If there is no common prefix, return an empty string <code>\"\"</code>.</p>\n",
    "\n",
    "<p>&nbsp;</p>\n",
    "<p><strong class=\"example\">Example 1:</strong></p>\n",
    "\n",
    "<pre><strong>Input:</strong> strs = [\"flower\",\"flow\",\"flight\"]\n",
    "<strong>Output:</strong> \"fl\"\n",
    "</pre>\n",
    "\n",
    "<p><strong class=\"example\">Example 2:</strong></p>\n",
    "\n",
    "<pre><strong>Input:</strong> strs = [\"dog\",\"racecar\",\"car\"]\n",
    "<strong>Output:</strong> \"\"\n",
    "<strong>Explanation:</strong> There is no common prefix among the input strings.\n",
    "</pre>\n",
    "\n",
    "<p>&nbsp;</p>\n",
    "<p><strong>Constraints:</strong></p>\n",
    "\n",
    "<ul>\n",
    "\t<li><code>1 &lt;= strs.length &lt;= 200</code></li>\n",
    "\t<li><code>0 &lt;= strs[i].length &lt;= 200</code></li>\n",
    "\t<li><code>strs[i]</code> consists of only lowercase English letters.</li>\n",
    "</ul>"
   ]
  },
  {
   "cell_type": "code",
   "execution_count": null,
   "metadata": {},
   "outputs": [
    {
     "ename": "TypeError",
     "evalue": "'type' object is not iterable",
     "output_type": "error",
     "traceback": [
      "\u001b[1;31m---------------------------------------------------------------------------\u001b[0m",
      "\u001b[1;31mTypeError\u001b[0m                                 Traceback (most recent call last)",
      "Cell \u001b[1;32mIn[5], line 8\u001b[0m\n\u001b[0;32m      5\u001b[0m         \u001b[38;5;28;01mfor\u001b[39;00m letter \u001b[38;5;129;01min\u001b[39;00m \u001b[38;5;28mstr\u001b[39m:\n\u001b[0;32m      6\u001b[0m             \u001b[38;5;28;01mreturn\u001b[39;00m strs[\u001b[38;5;241m0\u001b[39m]\n\u001b[1;32m----> 8\u001b[0m \u001b[38;5;28mprint\u001b[39m(\u001b[43mSolution\u001b[49m\u001b[43m(\u001b[49m\u001b[43m)\u001b[49m\u001b[38;5;241;43m.\u001b[39;49m\u001b[43mlongestCommonPrefix\u001b[49m\u001b[43m(\u001b[49m\u001b[43m[\u001b[49m\u001b[38;5;124;43m\"\u001b[39;49m\u001b[38;5;124;43mflower\u001b[39;49m\u001b[38;5;124;43m\"\u001b[39;49m\u001b[43m,\u001b[49m\u001b[38;5;124;43m\"\u001b[39;49m\u001b[38;5;124;43mflow\u001b[39;49m\u001b[38;5;124;43m\"\u001b[39;49m\u001b[43m,\u001b[49m\u001b[38;5;124;43m\"\u001b[39;49m\u001b[38;5;124;43mflight\u001b[39;49m\u001b[38;5;124;43m\"\u001b[39;49m\u001b[43m]\u001b[49m\u001b[43m)\u001b[49m)\n",
      "Cell \u001b[1;32mIn[5], line 5\u001b[0m, in \u001b[0;36mSolution.longestCommonPrefix\u001b[1;34m(self, strs)\u001b[0m\n\u001b[0;32m      4\u001b[0m \u001b[38;5;28;01mdef\u001b[39;00m \u001b[38;5;21mlongestCommonPrefix\u001b[39m(\u001b[38;5;28mself\u001b[39m, strs: List[\u001b[38;5;28mstr\u001b[39m]) \u001b[38;5;241m-\u001b[39m\u001b[38;5;241m>\u001b[39m \u001b[38;5;28mstr\u001b[39m:\n\u001b[1;32m----> 5\u001b[0m \u001b[43m    \u001b[49m\u001b[38;5;28;43;01mfor\u001b[39;49;00m\u001b[43m \u001b[49m\u001b[43mletter\u001b[49m\u001b[43m \u001b[49m\u001b[38;5;129;43;01min\u001b[39;49;00m\u001b[43m \u001b[49m\u001b[38;5;28;43mstr\u001b[39;49m\u001b[43m:\u001b[49m\n\u001b[0;32m      6\u001b[0m \u001b[43m        \u001b[49m\u001b[38;5;28;43;01mreturn\u001b[39;49;00m\u001b[43m \u001b[49m\u001b[43mstrs\u001b[49m\u001b[43m[\u001b[49m\u001b[38;5;241;43m0\u001b[39;49m\u001b[43m]\u001b[49m\n",
      "\u001b[1;31mTypeError\u001b[0m: 'type' object is not iterable"
     ]
    },
    {
     "name": "stdout",
     "output_type": "stream",
     "text": [
      "flower\n"
     ]
    }
   ],
   "source": [
    "from typing import List\n",
    "\n",
    "class Solution:\n",
    "    def longestCommonPrefix(self, strs: List[str]) -> str:\n",
    "        return strs\n",
    "\n",
    "print(Solution().longestCommonPrefix([\"flower\",\"flow\",\"flight\"]))"
   ]
  },
  {
   "cell_type": "markdown",
   "metadata": {},
   "source": [
    "Simple Array sort"
   ]
  },
  {
   "cell_type": "code",
   "execution_count": 19,
   "metadata": {},
   "outputs": [
    {
     "name": "stdout",
     "output_type": "stream",
     "text": [
      "arr[i] 12 < arr[i+1] 24\n",
      "arr[i] 24 > arr[i+1] 3\n"
     ]
    },
    {
     "ename": "TypeError",
     "evalue": "insert expected 2 arguments, got 1",
     "output_type": "error",
     "traceback": [
      "\u001b[1;31m---------------------------------------------------------------------------\u001b[0m",
      "\u001b[1;31mTypeError\u001b[0m                                 Traceback (most recent call last)",
      "Cell \u001b[1;32mIn[19], line 17\u001b[0m\n\u001b[0;32m     13\u001b[0m             \u001b[38;5;28mprint\u001b[39m(\u001b[38;5;124mf\u001b[39m\u001b[38;5;124m\"\u001b[39m\u001b[38;5;124marr[i] \u001b[39m\u001b[38;5;132;01m{\u001b[39;00marr[i]\u001b[38;5;132;01m}\u001b[39;00m\u001b[38;5;124m < arr[i+1] \u001b[39m\u001b[38;5;132;01m{\u001b[39;00marr[i\u001b[38;5;241m+\u001b[39m\u001b[38;5;241m1\u001b[39m]\u001b[38;5;132;01m}\u001b[39;00m\u001b[38;5;124m\"\u001b[39m)\n\u001b[0;32m     14\u001b[0m     \u001b[38;5;28mprint\u001b[39m(\u001b[38;5;124mf\u001b[39m\u001b[38;5;124m\"\u001b[39m\u001b[38;5;124mnew_arr \u001b[39m\u001b[38;5;132;01m{\u001b[39;00mnew_arr\u001b[38;5;132;01m}\u001b[39;00m\u001b[38;5;124m\"\u001b[39m)\n\u001b[1;32m---> 17\u001b[0m \u001b[43msorter\u001b[49m\u001b[43m(\u001b[49m\u001b[43marrary_to_besorted\u001b[49m\u001b[43m)\u001b[49m\n",
      "Cell \u001b[1;32mIn[19], line 10\u001b[0m, in \u001b[0;36msorter\u001b[1;34m(arr)\u001b[0m\n\u001b[0;32m      8\u001b[0m     \u001b[38;5;28mprint\u001b[39m(\u001b[38;5;124mf\u001b[39m\u001b[38;5;124m\"\u001b[39m\u001b[38;5;124marr[i] \u001b[39m\u001b[38;5;132;01m{\u001b[39;00marr[i]\u001b[38;5;132;01m}\u001b[39;00m\u001b[38;5;124m > arr[i+1] \u001b[39m\u001b[38;5;132;01m{\u001b[39;00marr[i\u001b[38;5;241m+\u001b[39m\u001b[38;5;241m1\u001b[39m]\u001b[38;5;132;01m}\u001b[39;00m\u001b[38;5;124m\"\u001b[39m)\n\u001b[0;32m      9\u001b[0m     arr\u001b[38;5;241m.\u001b[39mpop(i)\n\u001b[1;32m---> 10\u001b[0m     \u001b[43marr\u001b[49m\u001b[38;5;241;43m.\u001b[39;49m\u001b[43minsert\u001b[49m\u001b[43m(\u001b[49m\u001b[43mi\u001b[49m\u001b[43m)\u001b[49m\n\u001b[0;32m     11\u001b[0m     \u001b[38;5;28mprint\u001b[39m(\u001b[38;5;124mf\u001b[39m\u001b[38;5;124m\"\u001b[39m\u001b[38;5;124marr \u001b[39m\u001b[38;5;132;01m{\u001b[39;00marr\u001b[38;5;132;01m}\u001b[39;00m\u001b[38;5;124m\"\u001b[39m)\n\u001b[0;32m     12\u001b[0m \u001b[38;5;28;01melse\u001b[39;00m:\n",
      "\u001b[1;31mTypeError\u001b[0m: insert expected 2 arguments, got 1"
     ]
    }
   ],
   "source": [
    "arrary_to_besorted = [12, 24, 3, 8, 143, 2, 5]\n",
    "\n",
    "def sorter(arr):\n",
    "    sorted = False\n",
    "    new_arr = []\n",
    "    for i in range(len(arr) - 1):\n",
    "        if arr[i] > arr[i+1]:\n",
    "            print(f\"arr[i] {arr[i]} > arr[i+1] {arr[i+1]}\")\n",
    "            arr.pop(i)\n",
    "            arr.insert(i)\n",
    "            print(f\"arr {arr}\")\n",
    "        else:\n",
    "            print(f\"arr[i] {arr[i]} < arr[i+1] {arr[i+1]}\")\n",
    "    print(f\"new_arr {new_arr}\")\n",
    "\n",
    "    \n",
    "sorter(arrary_to_besorted)"
   ]
  }
 ],
 "metadata": {
  "kernelspec": {
   "display_name": "Python 3",
   "language": "python",
   "name": "python3"
  },
  "language_info": {
   "codemirror_mode": {
    "name": "ipython",
    "version": 3
   },
   "file_extension": ".py",
   "mimetype": "text/x-python",
   "name": "python",
   "nbconvert_exporter": "python",
   "pygments_lexer": "ipython3",
   "version": "3.11.5"
  }
 },
 "nbformat": 4,
 "nbformat_minor": 2
}
