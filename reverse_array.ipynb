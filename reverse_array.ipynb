{
 "cells": [
  {
   "cell_type": "markdown",
   "metadata": {},
   "source": [
    "1. Two Sum\n",
    "Given an array of integers nums and an integer target, return indices of the two numbers such that they add up to target.\n",
    "You may assume that each input would have exactly one solution, and you may not use the same element twice.\n",
    "You can return the answer in any order.\n",
    "\n",
    "Example 1:\n",
    "\n",
    "Input: nums = [2,7,11,15], target = 9\n",
    "Output: [0,1]\n",
    "Explanation: Because nums[0] + nums[1] == 9, we return [0, 1].\n",
    "Example 2:\n",
    "\n",
    "Input: nums = [3,2,4], target = 6\n",
    "Output: [1,2]\n",
    "Example 3:\n",
    "\n",
    "Input: nums = [3,3], target = 6\n",
    "Output: [0,1]\n",
    "\n",
    "Constraints:\n",
    "\n",
    "2 <= nums.length <= 104\n",
    "-109 <= nums[i] <= 109\n",
    "-109 <= target <= 109\n",
    "Only one valid answer exists."
   ]
  },
  {
   "cell_type": "code",
   "execution_count": 40,
   "metadata": {},
   "outputs": [
    {
     "name": "stdout",
     "output_type": "stream",
     "text": [
      "checked 0 1\n"
     ]
    },
    {
     "data": {
      "text/plain": [
       "[1, 2]"
      ]
     },
     "execution_count": 40,
     "metadata": {},
     "output_type": "execute_result"
    }
   ],
   "source": [
    "class Solution:\n",
    "    def twoSum(self, nums: List[int], target: int) -> List[int]:\n",
    "        x = 0\n",
    "        y = 1\n",
    "        j = len(nums)\n",
    "        if nums[x]+nums[y] != target:\n",
    "            while x < j -1:\n",
    "                while y < j -1:\n",
    "                    y += 1\n",
    "                    if nums[x]+nums[y] == target:\n",
    "                        return [x,y]\n",
    "                    elif y == j-1:\n",
    "                        x += 1\n",
    "                        y=x\n",
    "                if nums[x]+nums[y] == target:\n",
    "                    return [x,y]\n",
    "        else:\n",
    "            return [x,y]\n",
    "\n",
    "Solution().twoSum([2,7,11,15], 9)\n",
    "Solution().twoSum([3,2,4,6,8], 6)\n",
    "# Solution().twoSum([3,3], 6)"
   ]
  },
  {
   "cell_type": "markdown",
   "metadata": {},
   "source": [
    "344. Reverse String\n",
    "Write a function that reverses a string. The input string is given as an array of characters s.\n",
    "You must do this by modifying the input array in-place with O(1) extra memory.\n",
    "\n",
    "Example 1:\n",
    "\n",
    "Input: s = [\"h\",\"e\",\"l\",\"l\",\"o\"]\n",
    "Output: [\"o\",\"l\",\"l\",\"e\",\"h\"]\n",
    "Example 2:\n",
    "\n",
    "Input: s = [\"H\",\"a\",\"n\",\"n\",\"a\",\"h\"]\n",
    "Output: [\"h\",\"a\",\"n\",\"n\",\"a\",\"H\"]\n",
    " \n",
    "Constraints:\n",
    "\n",
    "1 <= s.length <= 105\n",
    "s[i] is a printable ascii character."
   ]
  },
  {
   "cell_type": "code",
   "execution_count": 2,
   "metadata": {},
   "outputs": [],
   "source": [
    "from typing import List\n",
    "\n",
    "\n",
    "class Solution:\n",
    "    def reverseString(self, s: List[str]) -> None:\n",
    "        \"\"\"\n",
    "        Do not return anything, modify s in-place instead.\n",
    "        \"\"\"\n",
    "        left, right = 0, len(s) - 1\n",
    "        while left < right:\n",
    "            s[left], s[right] = s[right], s[left]\n",
    "            left += 1\n",
    "            right -= 1\n",
    "\n",
    "Solution().reverseString([\"h\",\"e\",\"l\",\"l\",\"o\"])"
   ]
  },
  {
   "cell_type": "markdown",
   "metadata": {},
   "source": [
    "2. Add Two Numbers\n",
    "You are given two non-empty linked lists representing two non-negative integers. The digits are stored in reverse order, and each of their nodes contains a single digit. Add the two numbers and return the sum as a linked list.\n",
    "\n",
    "You may assume the two numbers do not contain any leading zero, except the number 0 itself."
   ]
  },
  {
   "cell_type": "code",
   "execution_count": 15,
   "metadata": {},
   "outputs": [
    {
     "name": "stdout",
     "output_type": "stream",
     "text": [
      "243\n"
     ]
    }
   ],
   "source": [
    "# Definition for singly-linked list.\n",
    "# class ListNode:\n",
    "#     def __init__(self, val=0, next=None):\n",
    "#         self.val = val\n",
    "#         self.next = next\n",
    "from typing import Optional, List\n",
    "\n",
    "\n",
    "class ListNode:\n",
    "    def __init__(self, val=0, next=None):\n",
    "        self.val = val\n",
    "        self.next = next\n",
    "\n",
    "\n",
    "class Solution:\n",
    "    def addTwoNumbers(self, l1: Optional[ListNode], l2: Optional[ListNode]) -> Optional[ListNode]:\n",
    "        a = ''.join(str(l1) for l1 in l1)\n",
    "        print(a)\n",
    "\n",
    "\n",
    "Solution().addTwoNumbers([2,4,3], [5,6,4])"
   ]
  },
  {
   "cell_type": "code",
   "execution_count": 19,
   "metadata": {},
   "outputs": [
    {
     "name": "stdout",
     "output_type": "stream",
     "text": [
      "807\n"
     ]
    }
   ],
   "source": [
    "from typing import Optional\n",
    "# Definition for singly-linked list.\n",
    "class ListNode:\n",
    "    def __init__(self, val=0, next=None):\n",
    "        self.val = val\n",
    "        self.next = next\n",
    "\n",
    "class Solution:\n",
    "    def addTwoNumbers(self, l1: Optional[ListNode], l2: Optional[ListNode]) -> Optional[ListNode]:\n",
    "            while l1:\n",
    "                s = ''.join(map(str, l1))\n",
    "                a = ''.join(map(str, l2))\n",
    "                si = int(s)\n",
    "                ai = int(a)\n",
    "                ans = si + ai\n",
    "                print(ans)\n",
    "                break\n",
    "\n",
    "Solution().addTwoNumbers([2,4,3], [5,6,4])"
   ]
  },
  {
   "cell_type": "code",
   "execution_count": 33,
   "metadata": {},
   "outputs": [
    {
     "name": "stdout",
     "output_type": "stream",
     "text": [
      "P1 First Row\n",
      "A2 Row\n",
      "Y3 Last Row\n",
      "P2 Row\n",
      "A1 First Row\n",
      "L2 Row\n",
      "I3 Last Row\n",
      "S2 Row\n",
      "H1 First Row\n",
      "I2 Row\n",
      "R3 Last Row\n",
      "I2 Row\n",
      "N1 First Row\n",
      "G2 Row\n",
      "Row 1: ['P', 'A', 'H', 'N']\n",
      "Row 2: ['A', 'P', 'L', 'S', 'I', 'I', 'G']\n",
      "Row 3: ['Y', 'I', 'R']\n"
     ]
    },
    {
     "data": {
      "text/plain": [
       "'PAHNAPLSIIGYIR'"
      ]
     },
     "execution_count": 33,
     "metadata": {},
     "output_type": "execute_result"
    }
   ],
   "source": [
    "class Solution:\n",
    "    def convert(self, s: str, numRows: int) -> str:\n",
    "        rows = [[] for _ in range(numRows)]\n",
    "\n",
    "        g = 1\n",
    "        w = 0\n",
    "        direction = \"down\"\n",
    "        while w < len(s):\n",
    "            for i in s:\n",
    "                if g == 1:\n",
    "                    rows[g-1].append(i)\n",
    "                    direction = \"down\"\n",
    "                    g += 1\n",
    "                    w += 1\n",
    "                elif g != numRows and direction == \"down\":\n",
    "                    rows[g-1].append(i)\n",
    "                    g += 1\n",
    "                    w += 1\n",
    "                elif g == numRows and direction == \"up\":\n",
    "                    rows[g-1].append(i)\n",
    "                    g -= 1\n",
    "                    w += 1\n",
    "                elif g == numRows:\n",
    "                    rows[g-1].append(i)\n",
    "                    direction = \"up\"\n",
    "                    g -= 1\n",
    "                    w += 1\n",
    "                elif g > 1 and direction == \"up\":\n",
    "                    rows[g-1].append(i)\n",
    "                    g -= 1\n",
    "                    w += 1\n",
    "                    \n",
    "        \n",
    "        return \"\".join([\"\".join(row) for row in rows])\n",
    "\n",
    "Solution().convert(\"PAYPALISHIRING\", 3)"
   ]
  },
  {
   "cell_type": "code",
   "execution_count": null,
   "metadata": {},
   "outputs": [],
   "source": []
  }
 ],
 "metadata": {
  "kernelspec": {
   "display_name": "Python 3",
   "language": "python",
   "name": "python3"
  },
  "language_info": {
   "codemirror_mode": {
    "name": "ipython",
    "version": 3
   },
   "file_extension": ".py",
   "mimetype": "text/x-python",
   "name": "python",
   "nbconvert_exporter": "python",
   "pygments_lexer": "ipython3",
   "version": "3.11.5"
  }
 },
 "nbformat": 4,
 "nbformat_minor": 2
}
